{
 "cells": [
  {
   "cell_type": "code",
   "execution_count": 1,
   "metadata": {},
   "outputs": [],
   "source": [
    "import numpy as np\n",
    "import pandas as pd\n",
    "from numpy.random import randn"
   ]
  },
  {
   "cell_type": "code",
   "execution_count": 6,
   "metadata": {},
   "outputs": [],
   "source": [
    "outerIndex = [\"Group1\",\"Group1\",\"Group1\",\"Group2\",\"Group2\",\"Group2\",\"Group3\",\"Group3\",\"Group3\"]"
   ]
  },
  {
   "cell_type": "code",
   "execution_count": 7,
   "metadata": {},
   "outputs": [],
   "source": [
    "innerIndex = [\"Index1\",\"Index2\",\"Index3\",\"Index1\",\"Index2\",\"Index3\",\"Index1\",\"Index2\",\"Index3\"]"
   ]
  },
  {
   "cell_type": "code",
   "execution_count": 8,
   "metadata": {},
   "outputs": [
    {
     "data": {
      "text/plain": [
       "[('Group1', 'Index1'),\n",
       " ('Group1', 'Index2'),\n",
       " ('Group1', 'Index3'),\n",
       " ('Group2', 'Index1'),\n",
       " ('Group2', 'Index2'),\n",
       " ('Group2', 'Index3'),\n",
       " ('Group3', 'Index1'),\n",
       " ('Group3', 'Index2'),\n",
       " ('Group3', 'Index3')]"
      ]
     },
     "execution_count": 8,
     "metadata": {},
     "output_type": "execute_result"
    }
   ],
   "source": [
    "list(zip(outerIndex,innerIndex))"
   ]
  },
  {
   "cell_type": "code",
   "execution_count": 12,
   "metadata": {},
   "outputs": [],
   "source": [
    "hierarchy = list(zip(outerIndex,innerIndex))"
   ]
  },
  {
   "cell_type": "code",
   "execution_count": 13,
   "metadata": {},
   "outputs": [],
   "source": [
    "hierarchy = pd.MultiIndex.from_tuples(hierarchy)"
   ]
  },
  {
   "cell_type": "code",
   "execution_count": 16,
   "metadata": {},
   "outputs": [
    {
     "data": {
      "text/plain": [
       "MultiIndex([('Group1', 'Index1'),\n",
       "            ('Group1', 'Index2'),\n",
       "            ('Group1', 'Index3'),\n",
       "            ('Group2', 'Index1'),\n",
       "            ('Group2', 'Index2'),\n",
       "            ('Group2', 'Index3'),\n",
       "            ('Group3', 'Index1'),\n",
       "            ('Group3', 'Index2'),\n",
       "            ('Group3', 'Index3')],\n",
       "           )"
      ]
     },
     "execution_count": 16,
     "metadata": {},
     "output_type": "execute_result"
    }
   ],
   "source": [
    "hierarchy"
   ]
  },
  {
   "cell_type": "code",
   "execution_count": 17,
   "metadata": {},
   "outputs": [],
   "source": [
    "df = pd.DataFrame(randn(9,3),hierarchy,columns = [\"Column1\",\"Column2\",\"Column3\"])"
   ]
  },
  {
   "cell_type": "code",
   "execution_count": 18,
   "metadata": {},
   "outputs": [
    {
     "data": {
      "text/html": [
       "<div>\n",
       "<style scoped>\n",
       "    .dataframe tbody tr th:only-of-type {\n",
       "        vertical-align: middle;\n",
       "    }\n",
       "\n",
       "    .dataframe tbody tr th {\n",
       "        vertical-align: top;\n",
       "    }\n",
       "\n",
       "    .dataframe thead th {\n",
       "        text-align: right;\n",
       "    }\n",
       "</style>\n",
       "<table border=\"1\" class=\"dataframe\">\n",
       "  <thead>\n",
       "    <tr style=\"text-align: right;\">\n",
       "      <th></th>\n",
       "      <th></th>\n",
       "      <th>Column1</th>\n",
       "      <th>Column2</th>\n",
       "      <th>Column3</th>\n",
       "    </tr>\n",
       "  </thead>\n",
       "  <tbody>\n",
       "    <tr>\n",
       "      <td rowspan=\"3\" valign=\"top\">Group1</td>\n",
       "      <td>Index1</td>\n",
       "      <td>-0.857263</td>\n",
       "      <td>-0.886805</td>\n",
       "      <td>0.900174</td>\n",
       "    </tr>\n",
       "    <tr>\n",
       "      <td>Index2</td>\n",
       "      <td>1.074859</td>\n",
       "      <td>0.689870</td>\n",
       "      <td>0.413807</td>\n",
       "    </tr>\n",
       "    <tr>\n",
       "      <td>Index3</td>\n",
       "      <td>-0.144177</td>\n",
       "      <td>1.180453</td>\n",
       "      <td>0.560666</td>\n",
       "    </tr>\n",
       "    <tr>\n",
       "      <td rowspan=\"3\" valign=\"top\">Group2</td>\n",
       "      <td>Index1</td>\n",
       "      <td>-0.187735</td>\n",
       "      <td>0.807732</td>\n",
       "      <td>-1.049834</td>\n",
       "    </tr>\n",
       "    <tr>\n",
       "      <td>Index2</td>\n",
       "      <td>0.757610</td>\n",
       "      <td>-1.644972</td>\n",
       "      <td>-1.568467</td>\n",
       "    </tr>\n",
       "    <tr>\n",
       "      <td>Index3</td>\n",
       "      <td>0.222633</td>\n",
       "      <td>0.158953</td>\n",
       "      <td>0.607364</td>\n",
       "    </tr>\n",
       "    <tr>\n",
       "      <td rowspan=\"3\" valign=\"top\">Group3</td>\n",
       "      <td>Index1</td>\n",
       "      <td>0.292433</td>\n",
       "      <td>0.428243</td>\n",
       "      <td>-0.024441</td>\n",
       "    </tr>\n",
       "    <tr>\n",
       "      <td>Index2</td>\n",
       "      <td>-0.316426</td>\n",
       "      <td>-0.082349</td>\n",
       "      <td>1.160137</td>\n",
       "    </tr>\n",
       "    <tr>\n",
       "      <td>Index3</td>\n",
       "      <td>-0.477023</td>\n",
       "      <td>0.148195</td>\n",
       "      <td>-0.247895</td>\n",
       "    </tr>\n",
       "  </tbody>\n",
       "</table>\n",
       "</div>"
      ],
      "text/plain": [
       "                Column1   Column2   Column3\n",
       "Group1 Index1 -0.857263 -0.886805  0.900174\n",
       "       Index2  1.074859  0.689870  0.413807\n",
       "       Index3 -0.144177  1.180453  0.560666\n",
       "Group2 Index1 -0.187735  0.807732 -1.049834\n",
       "       Index2  0.757610 -1.644972 -1.568467\n",
       "       Index3  0.222633  0.158953  0.607364\n",
       "Group3 Index1  0.292433  0.428243 -0.024441\n",
       "       Index2 -0.316426 -0.082349  1.160137\n",
       "       Index3 -0.477023  0.148195 -0.247895"
      ]
     },
     "execution_count": 18,
     "metadata": {},
     "output_type": "execute_result"
    }
   ],
   "source": [
    "df"
   ]
  },
  {
   "cell_type": "code",
   "execution_count": 19,
   "metadata": {},
   "outputs": [
    {
     "data": {
      "text/plain": [
       "Group1  Index1   -0.857263\n",
       "        Index2    1.074859\n",
       "        Index3   -0.144177\n",
       "Group2  Index1   -0.187735\n",
       "        Index2    0.757610\n",
       "        Index3    0.222633\n",
       "Group3  Index1    0.292433\n",
       "        Index2   -0.316426\n",
       "        Index3   -0.477023\n",
       "Name: Column1, dtype: float64"
      ]
     },
     "execution_count": 19,
     "metadata": {},
     "output_type": "execute_result"
    }
   ],
   "source": [
    "df[\"Column1\"]"
   ]
  },
  {
   "cell_type": "code",
   "execution_count": 20,
   "metadata": {},
   "outputs": [
    {
     "data": {
      "text/html": [
       "<div>\n",
       "<style scoped>\n",
       "    .dataframe tbody tr th:only-of-type {\n",
       "        vertical-align: middle;\n",
       "    }\n",
       "\n",
       "    .dataframe tbody tr th {\n",
       "        vertical-align: top;\n",
       "    }\n",
       "\n",
       "    .dataframe thead th {\n",
       "        text-align: right;\n",
       "    }\n",
       "</style>\n",
       "<table border=\"1\" class=\"dataframe\">\n",
       "  <thead>\n",
       "    <tr style=\"text-align: right;\">\n",
       "      <th></th>\n",
       "      <th>Column1</th>\n",
       "      <th>Column2</th>\n",
       "      <th>Column3</th>\n",
       "    </tr>\n",
       "  </thead>\n",
       "  <tbody>\n",
       "    <tr>\n",
       "      <td>Index1</td>\n",
       "      <td>-0.857263</td>\n",
       "      <td>-0.886805</td>\n",
       "      <td>0.900174</td>\n",
       "    </tr>\n",
       "    <tr>\n",
       "      <td>Index2</td>\n",
       "      <td>1.074859</td>\n",
       "      <td>0.689870</td>\n",
       "      <td>0.413807</td>\n",
       "    </tr>\n",
       "    <tr>\n",
       "      <td>Index3</td>\n",
       "      <td>-0.144177</td>\n",
       "      <td>1.180453</td>\n",
       "      <td>0.560666</td>\n",
       "    </tr>\n",
       "  </tbody>\n",
       "</table>\n",
       "</div>"
      ],
      "text/plain": [
       "         Column1   Column2   Column3\n",
       "Index1 -0.857263 -0.886805  0.900174\n",
       "Index2  1.074859  0.689870  0.413807\n",
       "Index3 -0.144177  1.180453  0.560666"
      ]
     },
     "execution_count": 20,
     "metadata": {},
     "output_type": "execute_result"
    }
   ],
   "source": [
    "df.loc[\"Group1\"]"
   ]
  },
  {
   "cell_type": "code",
   "execution_count": 23,
   "metadata": {},
   "outputs": [
    {
     "data": {
      "text/html": [
       "<div>\n",
       "<style scoped>\n",
       "    .dataframe tbody tr th:only-of-type {\n",
       "        vertical-align: middle;\n",
       "    }\n",
       "\n",
       "    .dataframe tbody tr th {\n",
       "        vertical-align: top;\n",
       "    }\n",
       "\n",
       "    .dataframe thead th {\n",
       "        text-align: right;\n",
       "    }\n",
       "</style>\n",
       "<table border=\"1\" class=\"dataframe\">\n",
       "  <thead>\n",
       "    <tr style=\"text-align: right;\">\n",
       "      <th></th>\n",
       "      <th></th>\n",
       "      <th>Column1</th>\n",
       "      <th>Column2</th>\n",
       "      <th>Column3</th>\n",
       "    </tr>\n",
       "  </thead>\n",
       "  <tbody>\n",
       "    <tr>\n",
       "      <td rowspan=\"3\" valign=\"top\">Group1</td>\n",
       "      <td>Index1</td>\n",
       "      <td>-0.857263</td>\n",
       "      <td>-0.886805</td>\n",
       "      <td>0.900174</td>\n",
       "    </tr>\n",
       "    <tr>\n",
       "      <td>Index2</td>\n",
       "      <td>1.074859</td>\n",
       "      <td>0.689870</td>\n",
       "      <td>0.413807</td>\n",
       "    </tr>\n",
       "    <tr>\n",
       "      <td>Index3</td>\n",
       "      <td>-0.144177</td>\n",
       "      <td>1.180453</td>\n",
       "      <td>0.560666</td>\n",
       "    </tr>\n",
       "    <tr>\n",
       "      <td rowspan=\"3\" valign=\"top\">Group2</td>\n",
       "      <td>Index1</td>\n",
       "      <td>-0.187735</td>\n",
       "      <td>0.807732</td>\n",
       "      <td>-1.049834</td>\n",
       "    </tr>\n",
       "    <tr>\n",
       "      <td>Index2</td>\n",
       "      <td>0.757610</td>\n",
       "      <td>-1.644972</td>\n",
       "      <td>-1.568467</td>\n",
       "    </tr>\n",
       "    <tr>\n",
       "      <td>Index3</td>\n",
       "      <td>0.222633</td>\n",
       "      <td>0.158953</td>\n",
       "      <td>0.607364</td>\n",
       "    </tr>\n",
       "  </tbody>\n",
       "</table>\n",
       "</div>"
      ],
      "text/plain": [
       "                Column1   Column2   Column3\n",
       "Group1 Index1 -0.857263 -0.886805  0.900174\n",
       "       Index2  1.074859  0.689870  0.413807\n",
       "       Index3 -0.144177  1.180453  0.560666\n",
       "Group2 Index1 -0.187735  0.807732 -1.049834\n",
       "       Index2  0.757610 -1.644972 -1.568467\n",
       "       Index3  0.222633  0.158953  0.607364"
      ]
     },
     "execution_count": 23,
     "metadata": {},
     "output_type": "execute_result"
    }
   ],
   "source": [
    "df.loc[[\"Group1\",\"Group2\"]]"
   ]
  },
  {
   "cell_type": "code",
   "execution_count": 24,
   "metadata": {},
   "outputs": [
    {
     "data": {
      "text/plain": [
       "Column1   -0.857263\n",
       "Column2   -0.886805\n",
       "Column3    0.900174\n",
       "Name: Index1, dtype: float64"
      ]
     },
     "execution_count": 24,
     "metadata": {},
     "output_type": "execute_result"
    }
   ],
   "source": [
    "df.loc[\"Group1\"].loc[\"Index1\"]"
   ]
  },
  {
   "cell_type": "code",
   "execution_count": 25,
   "metadata": {},
   "outputs": [
    {
     "data": {
      "text/plain": [
       "-0.8572629027738706"
      ]
     },
     "execution_count": 25,
     "metadata": {},
     "output_type": "execute_result"
    }
   ],
   "source": [
    "df.loc[\"Group1\"].loc[\"Index1\"][\"Column1\"]"
   ]
  },
  {
   "cell_type": "code",
   "execution_count": 26,
   "metadata": {},
   "outputs": [
    {
     "data": {
      "text/html": [
       "<div>\n",
       "<style scoped>\n",
       "    .dataframe tbody tr th:only-of-type {\n",
       "        vertical-align: middle;\n",
       "    }\n",
       "\n",
       "    .dataframe tbody tr th {\n",
       "        vertical-align: top;\n",
       "    }\n",
       "\n",
       "    .dataframe thead th {\n",
       "        text-align: right;\n",
       "    }\n",
       "</style>\n",
       "<table border=\"1\" class=\"dataframe\">\n",
       "  <thead>\n",
       "    <tr style=\"text-align: right;\">\n",
       "      <th></th>\n",
       "      <th></th>\n",
       "      <th>Column1</th>\n",
       "      <th>Column2</th>\n",
       "      <th>Column3</th>\n",
       "    </tr>\n",
       "  </thead>\n",
       "  <tbody>\n",
       "    <tr>\n",
       "      <td rowspan=\"3\" valign=\"top\">Group1</td>\n",
       "      <td>Index1</td>\n",
       "      <td>-0.857263</td>\n",
       "      <td>-0.886805</td>\n",
       "      <td>0.900174</td>\n",
       "    </tr>\n",
       "    <tr>\n",
       "      <td>Index2</td>\n",
       "      <td>1.074859</td>\n",
       "      <td>0.689870</td>\n",
       "      <td>0.413807</td>\n",
       "    </tr>\n",
       "    <tr>\n",
       "      <td>Index3</td>\n",
       "      <td>-0.144177</td>\n",
       "      <td>1.180453</td>\n",
       "      <td>0.560666</td>\n",
       "    </tr>\n",
       "    <tr>\n",
       "      <td rowspan=\"3\" valign=\"top\">Group2</td>\n",
       "      <td>Index1</td>\n",
       "      <td>-0.187735</td>\n",
       "      <td>0.807732</td>\n",
       "      <td>-1.049834</td>\n",
       "    </tr>\n",
       "    <tr>\n",
       "      <td>Index2</td>\n",
       "      <td>0.757610</td>\n",
       "      <td>-1.644972</td>\n",
       "      <td>-1.568467</td>\n",
       "    </tr>\n",
       "    <tr>\n",
       "      <td>Index3</td>\n",
       "      <td>0.222633</td>\n",
       "      <td>0.158953</td>\n",
       "      <td>0.607364</td>\n",
       "    </tr>\n",
       "    <tr>\n",
       "      <td rowspan=\"3\" valign=\"top\">Group3</td>\n",
       "      <td>Index1</td>\n",
       "      <td>0.292433</td>\n",
       "      <td>0.428243</td>\n",
       "      <td>-0.024441</td>\n",
       "    </tr>\n",
       "    <tr>\n",
       "      <td>Index2</td>\n",
       "      <td>-0.316426</td>\n",
       "      <td>-0.082349</td>\n",
       "      <td>1.160137</td>\n",
       "    </tr>\n",
       "    <tr>\n",
       "      <td>Index3</td>\n",
       "      <td>-0.477023</td>\n",
       "      <td>0.148195</td>\n",
       "      <td>-0.247895</td>\n",
       "    </tr>\n",
       "  </tbody>\n",
       "</table>\n",
       "</div>"
      ],
      "text/plain": [
       "                Column1   Column2   Column3\n",
       "Group1 Index1 -0.857263 -0.886805  0.900174\n",
       "       Index2  1.074859  0.689870  0.413807\n",
       "       Index3 -0.144177  1.180453  0.560666\n",
       "Group2 Index1 -0.187735  0.807732 -1.049834\n",
       "       Index2  0.757610 -1.644972 -1.568467\n",
       "       Index3  0.222633  0.158953  0.607364\n",
       "Group3 Index1  0.292433  0.428243 -0.024441\n",
       "       Index2 -0.316426 -0.082349  1.160137\n",
       "       Index3 -0.477023  0.148195 -0.247895"
      ]
     },
     "execution_count": 26,
     "metadata": {},
     "output_type": "execute_result"
    }
   ],
   "source": [
    "df"
   ]
  },
  {
   "cell_type": "code",
   "execution_count": 27,
   "metadata": {},
   "outputs": [],
   "source": [
    "df.index.names=[\"Groups\",\"Indexes\"]"
   ]
  },
  {
   "cell_type": "code",
   "execution_count": 28,
   "metadata": {},
   "outputs": [
    {
     "data": {
      "text/html": [
       "<div>\n",
       "<style scoped>\n",
       "    .dataframe tbody tr th:only-of-type {\n",
       "        vertical-align: middle;\n",
       "    }\n",
       "\n",
       "    .dataframe tbody tr th {\n",
       "        vertical-align: top;\n",
       "    }\n",
       "\n",
       "    .dataframe thead th {\n",
       "        text-align: right;\n",
       "    }\n",
       "</style>\n",
       "<table border=\"1\" class=\"dataframe\">\n",
       "  <thead>\n",
       "    <tr style=\"text-align: right;\">\n",
       "      <th></th>\n",
       "      <th></th>\n",
       "      <th>Column1</th>\n",
       "      <th>Column2</th>\n",
       "      <th>Column3</th>\n",
       "    </tr>\n",
       "    <tr>\n",
       "      <th>Groups</th>\n",
       "      <th>Indexes</th>\n",
       "      <th></th>\n",
       "      <th></th>\n",
       "      <th></th>\n",
       "    </tr>\n",
       "  </thead>\n",
       "  <tbody>\n",
       "    <tr>\n",
       "      <td rowspan=\"3\" valign=\"top\">Group1</td>\n",
       "      <td>Index1</td>\n",
       "      <td>-0.857263</td>\n",
       "      <td>-0.886805</td>\n",
       "      <td>0.900174</td>\n",
       "    </tr>\n",
       "    <tr>\n",
       "      <td>Index2</td>\n",
       "      <td>1.074859</td>\n",
       "      <td>0.689870</td>\n",
       "      <td>0.413807</td>\n",
       "    </tr>\n",
       "    <tr>\n",
       "      <td>Index3</td>\n",
       "      <td>-0.144177</td>\n",
       "      <td>1.180453</td>\n",
       "      <td>0.560666</td>\n",
       "    </tr>\n",
       "    <tr>\n",
       "      <td rowspan=\"3\" valign=\"top\">Group2</td>\n",
       "      <td>Index1</td>\n",
       "      <td>-0.187735</td>\n",
       "      <td>0.807732</td>\n",
       "      <td>-1.049834</td>\n",
       "    </tr>\n",
       "    <tr>\n",
       "      <td>Index2</td>\n",
       "      <td>0.757610</td>\n",
       "      <td>-1.644972</td>\n",
       "      <td>-1.568467</td>\n",
       "    </tr>\n",
       "    <tr>\n",
       "      <td>Index3</td>\n",
       "      <td>0.222633</td>\n",
       "      <td>0.158953</td>\n",
       "      <td>0.607364</td>\n",
       "    </tr>\n",
       "    <tr>\n",
       "      <td rowspan=\"3\" valign=\"top\">Group3</td>\n",
       "      <td>Index1</td>\n",
       "      <td>0.292433</td>\n",
       "      <td>0.428243</td>\n",
       "      <td>-0.024441</td>\n",
       "    </tr>\n",
       "    <tr>\n",
       "      <td>Index2</td>\n",
       "      <td>-0.316426</td>\n",
       "      <td>-0.082349</td>\n",
       "      <td>1.160137</td>\n",
       "    </tr>\n",
       "    <tr>\n",
       "      <td>Index3</td>\n",
       "      <td>-0.477023</td>\n",
       "      <td>0.148195</td>\n",
       "      <td>-0.247895</td>\n",
       "    </tr>\n",
       "  </tbody>\n",
       "</table>\n",
       "</div>"
      ],
      "text/plain": [
       "                 Column1   Column2   Column3\n",
       "Groups Indexes                              \n",
       "Group1 Index1  -0.857263 -0.886805  0.900174\n",
       "       Index2   1.074859  0.689870  0.413807\n",
       "       Index3  -0.144177  1.180453  0.560666\n",
       "Group2 Index1  -0.187735  0.807732 -1.049834\n",
       "       Index2   0.757610 -1.644972 -1.568467\n",
       "       Index3   0.222633  0.158953  0.607364\n",
       "Group3 Index1   0.292433  0.428243 -0.024441\n",
       "       Index2  -0.316426 -0.082349  1.160137\n",
       "       Index3  -0.477023  0.148195 -0.247895"
      ]
     },
     "execution_count": 28,
     "metadata": {},
     "output_type": "execute_result"
    }
   ],
   "source": [
    "df"
   ]
  },
  {
   "cell_type": "code",
   "execution_count": 29,
   "metadata": {},
   "outputs": [
    {
     "data": {
      "text/html": [
       "<div>\n",
       "<style scoped>\n",
       "    .dataframe tbody tr th:only-of-type {\n",
       "        vertical-align: middle;\n",
       "    }\n",
       "\n",
       "    .dataframe tbody tr th {\n",
       "        vertical-align: top;\n",
       "    }\n",
       "\n",
       "    .dataframe thead th {\n",
       "        text-align: right;\n",
       "    }\n",
       "</style>\n",
       "<table border=\"1\" class=\"dataframe\">\n",
       "  <thead>\n",
       "    <tr style=\"text-align: right;\">\n",
       "      <th></th>\n",
       "      <th>Column1</th>\n",
       "      <th>Column2</th>\n",
       "      <th>Column3</th>\n",
       "    </tr>\n",
       "    <tr>\n",
       "      <th>Indexes</th>\n",
       "      <th></th>\n",
       "      <th></th>\n",
       "      <th></th>\n",
       "    </tr>\n",
       "  </thead>\n",
       "  <tbody>\n",
       "    <tr>\n",
       "      <td>Index1</td>\n",
       "      <td>-0.857263</td>\n",
       "      <td>-0.886805</td>\n",
       "      <td>0.900174</td>\n",
       "    </tr>\n",
       "    <tr>\n",
       "      <td>Index2</td>\n",
       "      <td>1.074859</td>\n",
       "      <td>0.689870</td>\n",
       "      <td>0.413807</td>\n",
       "    </tr>\n",
       "    <tr>\n",
       "      <td>Index3</td>\n",
       "      <td>-0.144177</td>\n",
       "      <td>1.180453</td>\n",
       "      <td>0.560666</td>\n",
       "    </tr>\n",
       "  </tbody>\n",
       "</table>\n",
       "</div>"
      ],
      "text/plain": [
       "          Column1   Column2   Column3\n",
       "Indexes                              \n",
       "Index1  -0.857263 -0.886805  0.900174\n",
       "Index2   1.074859  0.689870  0.413807\n",
       "Index3  -0.144177  1.180453  0.560666"
      ]
     },
     "execution_count": 29,
     "metadata": {},
     "output_type": "execute_result"
    }
   ],
   "source": [
    "df.loc[\"Group1\"]"
   ]
  },
  {
   "cell_type": "code",
   "execution_count": 30,
   "metadata": {},
   "outputs": [
    {
     "data": {
      "text/html": [
       "<div>\n",
       "<style scoped>\n",
       "    .dataframe tbody tr th:only-of-type {\n",
       "        vertical-align: middle;\n",
       "    }\n",
       "\n",
       "    .dataframe tbody tr th {\n",
       "        vertical-align: top;\n",
       "    }\n",
       "\n",
       "    .dataframe thead th {\n",
       "        text-align: right;\n",
       "    }\n",
       "</style>\n",
       "<table border=\"1\" class=\"dataframe\">\n",
       "  <thead>\n",
       "    <tr style=\"text-align: right;\">\n",
       "      <th></th>\n",
       "      <th>Column1</th>\n",
       "      <th>Column2</th>\n",
       "      <th>Column3</th>\n",
       "    </tr>\n",
       "    <tr>\n",
       "      <th>Indexes</th>\n",
       "      <th></th>\n",
       "      <th></th>\n",
       "      <th></th>\n",
       "    </tr>\n",
       "  </thead>\n",
       "  <tbody>\n",
       "    <tr>\n",
       "      <td>Index1</td>\n",
       "      <td>-0.857263</td>\n",
       "      <td>-0.886805</td>\n",
       "      <td>0.900174</td>\n",
       "    </tr>\n",
       "    <tr>\n",
       "      <td>Index2</td>\n",
       "      <td>1.074859</td>\n",
       "      <td>0.689870</td>\n",
       "      <td>0.413807</td>\n",
       "    </tr>\n",
       "    <tr>\n",
       "      <td>Index3</td>\n",
       "      <td>-0.144177</td>\n",
       "      <td>1.180453</td>\n",
       "      <td>0.560666</td>\n",
       "    </tr>\n",
       "  </tbody>\n",
       "</table>\n",
       "</div>"
      ],
      "text/plain": [
       "          Column1   Column2   Column3\n",
       "Indexes                              \n",
       "Index1  -0.857263 -0.886805  0.900174\n",
       "Index2   1.074859  0.689870  0.413807\n",
       "Index3  -0.144177  1.180453  0.560666"
      ]
     },
     "execution_count": 30,
     "metadata": {},
     "output_type": "execute_result"
    }
   ],
   "source": [
    "df.xs(\"Group1\") # yukarıdaki ile aynı sonucu alırız."
   ]
  },
  {
   "cell_type": "code",
   "execution_count": 31,
   "metadata": {},
   "outputs": [
    {
     "data": {
      "text/plain": [
       "Column1   -0.857263\n",
       "Column2   -0.886805\n",
       "Column3    0.900174\n",
       "Name: Index1, dtype: float64"
      ]
     },
     "execution_count": 31,
     "metadata": {},
     "output_type": "execute_result"
    }
   ],
   "source": [
    "df.xs(\"Group1\").xs(\"Index1\")"
   ]
  },
  {
   "cell_type": "code",
   "execution_count": 32,
   "metadata": {},
   "outputs": [
    {
     "data": {
      "text/plain": [
       "-0.8572629027738706"
      ]
     },
     "execution_count": 32,
     "metadata": {},
     "output_type": "execute_result"
    }
   ],
   "source": [
    "df.xs(\"Group1\").xs(\"Index1\").xs(\"Column1\")"
   ]
  },
  {
   "cell_type": "code",
   "execution_count": 33,
   "metadata": {},
   "outputs": [
    {
     "data": {
      "text/html": [
       "<div>\n",
       "<style scoped>\n",
       "    .dataframe tbody tr th:only-of-type {\n",
       "        vertical-align: middle;\n",
       "    }\n",
       "\n",
       "    .dataframe tbody tr th {\n",
       "        vertical-align: top;\n",
       "    }\n",
       "\n",
       "    .dataframe thead th {\n",
       "        text-align: right;\n",
       "    }\n",
       "</style>\n",
       "<table border=\"1\" class=\"dataframe\">\n",
       "  <thead>\n",
       "    <tr style=\"text-align: right;\">\n",
       "      <th></th>\n",
       "      <th>Column1</th>\n",
       "      <th>Column2</th>\n",
       "      <th>Column3</th>\n",
       "    </tr>\n",
       "    <tr>\n",
       "      <th>Groups</th>\n",
       "      <th></th>\n",
       "      <th></th>\n",
       "      <th></th>\n",
       "    </tr>\n",
       "  </thead>\n",
       "  <tbody>\n",
       "    <tr>\n",
       "      <td>Group1</td>\n",
       "      <td>-0.857263</td>\n",
       "      <td>-0.886805</td>\n",
       "      <td>0.900174</td>\n",
       "    </tr>\n",
       "    <tr>\n",
       "      <td>Group2</td>\n",
       "      <td>-0.187735</td>\n",
       "      <td>0.807732</td>\n",
       "      <td>-1.049834</td>\n",
       "    </tr>\n",
       "    <tr>\n",
       "      <td>Group3</td>\n",
       "      <td>0.292433</td>\n",
       "      <td>0.428243</td>\n",
       "      <td>-0.024441</td>\n",
       "    </tr>\n",
       "  </tbody>\n",
       "</table>\n",
       "</div>"
      ],
      "text/plain": [
       "         Column1   Column2   Column3\n",
       "Groups                              \n",
       "Group1 -0.857263 -0.886805  0.900174\n",
       "Group2 -0.187735  0.807732 -1.049834\n",
       "Group3  0.292433  0.428243 -0.024441"
      ]
     },
     "execution_count": 33,
     "metadata": {},
     "output_type": "execute_result"
    }
   ],
   "source": [
    "df.xs(\"Index1\",level=\"Indexes\")"
   ]
  },
  {
   "cell_type": "code",
   "execution_count": null,
   "metadata": {},
   "outputs": [],
   "source": []
  }
 ],
 "metadata": {
  "kernelspec": {
   "display_name": "Python 3",
   "language": "python",
   "name": "python3"
  },
  "language_info": {
   "codemirror_mode": {
    "name": "ipython",
    "version": 3
   },
   "file_extension": ".py",
   "mimetype": "text/x-python",
   "name": "python",
   "nbconvert_exporter": "python",
   "pygments_lexer": "ipython3",
   "version": "3.7.4"
  }
 },
 "nbformat": 4,
 "nbformat_minor": 2
}
